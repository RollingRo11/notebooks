{
 "cells": [
  {
   "cell_type": "code",
   "execution_count": 1,
   "id": "55518694-956a-4bdd-9ca9-3e6875648a76",
   "metadata": {},
   "outputs": [],
   "source": [
    "import torch\n",
    "import torch.nn.functional as F\n",
    "import matplotlib.pyplot as plt\n",
    "%matplotlib inline"
   ]
  },
  {
   "cell_type": "code",
   "execution_count": 2,
   "id": "d7024919-2b71-4d6f-a611-f8d363a76467",
   "metadata": {},
   "outputs": [
    {
     "data": {
      "text/plain": [
       "['emma', 'olivia', 'ava', 'isabella', 'sophia', 'charlotte', 'mia', 'amelia']"
      ]
     },
     "execution_count": 2,
     "metadata": {},
     "output_type": "execute_result"
    }
   ],
   "source": [
    "# read in the words\n",
    "words = open(\"names.txt\", 'r').read().splitlines()\n",
    "words[:8]"
   ]
  },
  {
   "cell_type": "code",
   "execution_count": 3,
   "id": "d8523e49-525a-4188-a268-22bbc063263a",
   "metadata": {},
   "outputs": [
    {
     "data": {
      "text/plain": [
       "32033"
      ]
     },
     "execution_count": 3,
     "metadata": {},
     "output_type": "execute_result"
    }
   ],
   "source": [
    "len(words)"
   ]
  },
  {
   "cell_type": "code",
   "execution_count": 4,
   "id": "5f85cf16-1ded-41d4-9ce6-700602ab4bb0",
   "metadata": {},
   "outputs": [
    {
     "name": "stdout",
     "output_type": "stream",
     "text": [
      "{1: 'a', 2: 'b', 3: 'c', 4: 'd', 5: 'e', 6: 'f', 7: 'g', 8: 'h', 9: 'i', 10: 'j', 11: 'k', 12: 'l', 13: 'm', 14: 'n', 15: 'o', 16: 'p', 17: 'q', 18: 'r', 19: 's', 20: 't', 21: 'u', 22: 'v', 23: 'w', 24: 'x', 25: 'y', 26: 'z', 0: '.'}\n",
      "27\n"
     ]
    }
   ],
   "source": [
    "# build the vocab of the words\n",
    "chars = sorted(list(set(''.join(words))))\n",
    "stoi = {s:i+1 for i,s in enumerate(chars)}\n",
    "stoi['.'] = 0\n",
    "itos = {i:s for s,i in stoi.items()}\n",
    "vocab_size = len(itos)\n",
    "print(itos)\n",
    "print(vocab_size)"
   ]
  },
  {
   "cell_type": "code",
   "execution_count": 5,
   "id": "baa09b28-5d64-44e8-86d3-d96b9d445e8d",
   "metadata": {},
   "outputs": [
    {
     "name": "stdout",
     "output_type": "stream",
     "text": [
      "torch.Size([182625, 3]) torch.Size([182625])\n",
      "torch.Size([22655, 3]) torch.Size([22655])\n",
      "torch.Size([22866, 3]) torch.Size([22866])\n"
     ]
    }
   ],
   "source": [
    "# build the dataset\n",
    "\n",
    "block_size = 3\n",
    "\n",
    "def build_dataset(words):\n",
    "    X, Y = [], []\n",
    "\n",
    "    for w in words:\n",
    "        context = [0] * block_size\n",
    "        for ch in w + '.':\n",
    "            ix = stoi[ch]\n",
    "            X.append(context)\n",
    "            Y.append(ix)\n",
    "            context = context[1:] + [ix]\n",
    "\n",
    "    X = torch.tensor(X)\n",
    "    Y = torch.tensor(Y)\n",
    "    print(X.shape, Y.shape)\n",
    "    return X, Y\n",
    "\n",
    "import random\n",
    "random.seed(42)\n",
    "random.shuffle(words)\n",
    "\n",
    "n1 = int(0.8 * len(words))\n",
    "n2 = int(0.9 * len(words))\n",
    "\n",
    "Xtr, Ytr = build_dataset(words[:n1])\n",
    "Xdev, Ydev = build_dataset(words[n1:n2])\n",
    "Xte, Yte = build_dataset(words[n2:])"
   ]
  },
  {
   "cell_type": "markdown",
   "id": "18379f8d-066a-47df-a76c-91ed720b6c9f",
   "metadata": {},
   "source": [
    "$$ \\text{std} = \\frac{\\text{gain}}{\\sqrt{\\text{fan\\_in}}} $$"
   ]
  },
  {
   "cell_type": "code",
   "execution_count": 7,
   "id": "9e3ae0b8-b261-42ba-87a9-3665f6e584eb",
   "metadata": {},
   "outputs": [
    {
     "name": "stdout",
     "output_type": "stream",
     "text": [
      "12097\n"
     ]
    }
   ],
   "source": [
    "# mlp revisit\n",
    "\n",
    "n_embed = 10 # dimensionality of the embedding vectors\n",
    "n_hidden = 200 # the number of neurons in the hidden layer of the MLP\n",
    "\n",
    "g = torch.Generator().manual_seed(2147483647) \n",
    "C = torch.randn((vocab_size, n_embed), generator=g)\n",
    "W1 = torch.randn((n_embed * block_size, n_hidden), generator=g) * ((5/3) / (n_embed * block_size)**0.5)  # * 0.2 #hidden layer \n",
    "#b1 = torch.randn(n_hidden, generator=g) * 0.01\n",
    "W2 = torch.randn((n_hidden, vocab_size), generator=g) * 0.01\n",
    "b2 = torch.randn(vocab_size, generator=g) * 0\n",
    "\n",
    "bngain = torch.ones((1, n_hidden))\n",
    "bnbias = torch.ones((1, n_hidden))\n",
    "bnmean_running = torch.zeros((1, n_hidden))\n",
    "bnstd_running = torch.zeros((1, n_hidden))\n",
    "parameters = [C, W1, W2, b2, bngain, bnbias]\n",
    "\n",
    "print(sum(p.nelement() for p in parameters))\n",
    "for p in parameters:\n",
    "    p.requires_grad=True"
   ]
  },
  {
   "cell_type": "markdown",
   "id": "a830e842-b3b1-43c4-ad1a-688144f2d2c6",
   "metadata": {},
   "source": [
    "## Explain the above\n",
    "\n",
    "`g`: generator\n",
    "\n",
    "- `n_embed = 10` → Each token (letter) is represented as a 10-dimensional embedding vector\n",
    "- `n_hidden = 200` → The hidden layer has 200 neurons.\n",
    "\n",
    "#### $C$ is the embedding matrix.\n",
    "- It has vocab_size rows (one for each token in the vocabulary).\n",
    "- Each row is a 10-dimensional vector (`n_embed = 10`).\n",
    "- This matrix converts discrete tokens (letters) into continuous vectors.\n",
    "\n",
    "#### Why multiply `n_embed * block_size`?\n",
    "- block_size represents how many previous tokens we use as context.\n",
    "- Each token has a 10-dimensional embedding.\n",
    "- If we use `block_size = 3`, then we have 3 tokens × 10 dimensions = 30 inputs.\n",
    "- The first layer must process all these embeddings together, so it expects an input of size n_embed * block_size.\n",
    "\n",
    "#### What does $W_1$ do?\n",
    "It transforms the concatenated embeddings into a hidden representation of size `n_hidden = 200`.\n",
    "\n",
    "#### What is $b1$?\n",
    "- This is a bias vector for the hidden layer.\n",
    "- It has 200 elements (one for each neuron in the hidden layer).\n",
    "- Bias allows the network to shift activations and learn better.\n",
    "\n",
    "#### $W2$\n",
    "- This is the output layer.\n",
    "- It takes the 200-dimensional hidden representation and maps it to vocab_size outputs.\n",
    "- Each output represents a score for a possible next token.\n",
    "\n",
    "#### What is $b2$?\n",
    "- This is the bias for the output layer.\n",
    "- It has one value per vocabulary token.\n",
    "- Helps adjust the final predictions.\n",
    "\n",
    "#### Summary\n",
    "| Component | Shape | Purpose |\n",
    "|-----------|--------|---------|\n",
    "| \\( C \\) | `(vocab_size, n_embed)` | Embedding matrix (converts tokens to vectors) |\n",
    "| \\( W_1 \\) | `(n_embed * block_size, n_hidden)` | First layer weights (processes concatenated embeddings) |\n",
    "| \\( b_1 \\) | `(n_hidden,)` | Bias for the hidden layer |\n",
    "| \\( W_2 \\) | `(n_hidden, vocab_size)` | Second layer weights (maps hidden layer to output) |\n",
    "| \\( b_2 \\) | `(vocab_size,)` | Bias for the output layer |\n",
    "\n",
    "---\n",
    "\n",
    "## Final Takeaways\n",
    "- **Embeddings (`C`) convert tokens into vectors**.\n",
    "- **We multiply `n_embed * block_size` because we process multiple tokens at once**.\n",
    "- **The first layer (`W1`) learns patterns from concatenated embeddings**.\n",
    "- **The second layer (`W2`) predicts the next token**.\n",
    "- **Bias terms (`b1`, `b2`) help shift activations**."
   ]
  },
  {
   "cell_type": "code",
   "execution_count": 8,
   "id": "fe5e461e-f7f0-46dd-9243-b56d671d44b2",
   "metadata": {},
   "outputs": [
    {
     "name": "stdout",
     "output_type": "stream",
     "text": [
      "      0/ 200000: 3.3056\n",
      "  10000/ 200000: 1.9817\n",
      "  20000/ 200000: 2.6418\n",
      "  30000/ 200000: 2.0012\n",
      "  40000/ 200000: 2.3115\n",
      "  50000/ 200000: 1.8987\n",
      "  60000/ 200000: 2.0529\n",
      "  70000/ 200000: 2.3327\n",
      "  80000/ 200000: 2.4092\n",
      "  90000/ 200000: 2.2383\n",
      " 100000/ 200000: 2.2589\n",
      " 110000/ 200000: 2.2823\n",
      " 120000/ 200000: 1.6926\n",
      " 130000/ 200000: 1.9830\n",
      " 140000/ 200000: 2.2002\n",
      " 150000/ 200000: 2.0063\n",
      " 160000/ 200000: 1.9524\n",
      " 170000/ 200000: 2.4093\n",
      " 180000/ 200000: 2.1574\n",
      " 190000/ 200000: 2.2078\n"
     ]
    }
   ],
   "source": [
    "# same optimization as last time:\n",
    "\n",
    "max_steps = 200000\n",
    "batch_size = 32\n",
    "lossi = []\n",
    "\n",
    "for i in range(max_steps):\n",
    "\n",
    "    # ----create minibatch---- #\n",
    "    ix = torch.randint(0, Xtr.shape[0], (batch_size, ), generator=g)\n",
    "    Xb, Yb = Xtr[ix], Ytr[ix] # batch X, Y\n",
    "\n",
    "    # ----forward pass---- #\n",
    "    emb = C[Xb] # embed the characters into vectors\n",
    "    embcat = emb.view(emb.shape[0], -1) #concat the vectors from the table C\n",
    "    hpreact = embcat @ W1 #+ b1 # hidden layer pre-activation, multiply then add bias\n",
    "\n",
    "    # batchnorm layer\n",
    "    # usually placed after layers that have multiplications\n",
    "    # ---------------------------------------- #\n",
    "    bnmeani = hpreact.mean(0, keepdim=True)\n",
    "    bnstdi = hpreact.std(0, keepdim=True)\n",
    "    hpreact = bngain * (hpreact - hpreact.mean(0, keepdim=True)) / hpreact.std(0, keepdim=True) + bnbias\n",
    "\n",
    "    with torch.no_grad():\n",
    "        bnmean_running = 0.999 * bnmean_running + 0.001 * bnmeani\n",
    "        bnstd_running = 0.999 * bnstd_running + 0.001 * bnstdi\n",
    "    # ---------------------------------------- #\n",
    "\n",
    "    # ----non-linearity---- #\n",
    "    h = torch.tanh(hpreact) # hidden layer, flattening?\n",
    "    logits = h @ W2 + b2 # output layer\n",
    "    loss = F.cross_entropy(logits, Yb) #loss function\n",
    "\n",
    "\n",
    "    # ----backward pass---- #\n",
    "    for p in parameters:\n",
    "        p.grad = None\n",
    "    loss.backward()\n",
    "\n",
    "    # ----update---- #\n",
    "    lr = 0.1 if i < 100000 else 0.01 # learning rate decay\n",
    "    for p in parameters:\n",
    "        p.data += -lr * p.grad\n",
    "\n",
    "    # ----track stats---- #\n",
    "    if i % 10000 == 0: # print every 10000 steps\n",
    "        print(f'{i:7d}/{max_steps:7d}: {loss.item():.4f}')\n",
    "    lossi.append(loss.log10().item())\n",
    "\n",
    "    # break"
   ]
  },
  {
   "cell_type": "code",
   "execution_count": 9,
   "id": "61db521e-0e27-4b9c-adbc-424154182521",
   "metadata": {},
   "outputs": [
    {
     "data": {
      "text/plain": [
       "<matplotlib.image.AxesImage at 0x11f0f3800>"
      ]
     },
     "execution_count": 9,
     "metadata": {},
     "output_type": "execute_result"
    },
    {
     "data": {
      "image/png": "[encoded data removed]",
      "text/plain": [
       "<Figure size 2000x2000 with 1 Axes>"
      ]
     },
     "metadata": {},
     "output_type": "display_data"
    }
   ],
   "source": [
    "plt.figure(figsize=(20,20))\n",
    "plt.imshow(h.abs() > 0.99, cmap= 'gray', interpolation='nearest')"
   ]
  },
  {
   "cell_type": "code",
   "execution_count": 54,
   "id": "a3555424-8d88-4ba2-9237-f1740aaa0679",
   "metadata": {},
   "outputs": [
    {
     "data": {
      "image/png": "[encoded data removed]",
      "text/plain": [
       "<Figure size 640x480 with 1 Axes>"
      ]
     },
     "metadata": {},
     "output_type": "display_data"
    }
   ],
   "source": [
    "plt.hist(h.view(-1).tolist(), 50);"
   ]
  },
  {
   "cell_type": "code",
   "execution_count": 55,
   "id": "6970e8a0-a663-4236-953d-fce5dc892a46",
   "metadata": {},
   "outputs": [
    {
     "data": {
      "image/png": "[encoded data removed]",
      "text/plain": [
       "<Figure size 640x480 with 1 Axes>"
      ]
     },
     "metadata": {},
     "output_type": "display_data"
    }
   ],
   "source": [
    "plt.hist(hpreact.view(-1).tolist(), 50);"
   ]
  },
  {
   "cell_type": "code",
   "execution_count": 56,
   "id": "c37e0883-6690-443a-a6ae-b7a3dd7a83d6",
   "metadata": {},
   "outputs": [
    {
     "data": {
      "text/plain": [
       "[<matplotlib.lines.Line2D at 0x1264daa80>]"
      ]
     },
     "execution_count": 56,
     "metadata": {},
     "output_type": "execute_result"
    },
    {
     "data": {
      "image/png": "[encoded data removed]",
      "text/plain": [
       "<Figure size 640x480 with 1 Axes>"
      ]
     },
     "metadata": {},
     "output_type": "display_data"
    }
   ],
   "source": [
    "plt.plot(lossi)"
   ]
  },
  {
   "cell_type": "code",
   "execution_count": 16,
   "id": "8885673e-141b-44ee-a29a-bc9a98f7ff82",
   "metadata": {},
   "outputs": [
    {
     "name": "stdout",
     "output_type": "stream",
     "text": [
      "train 2.0669374465942383\n",
      "eval 2.112175226211548\n"
     ]
    }
   ],
   "source": [
    "@torch.no_grad() # disables gradient tracking doesn't ever\n",
    "                 # backward pass\n",
    "\n",
    "def split_loss(split):\n",
    "    x, y = {\n",
    "        'train': (Xtr, Ytr),\n",
    "        'eval': (Xdev, Ydev),\n",
    "        'test': (Xte, Yte),\n",
    "    }[split]\n",
    "    emb = C[x] \n",
    "    embcat = emb.view(emb.shape[0], -1)\n",
    "    hpreact = embcat @ W1 + b1\n",
    "    \n",
    "    hpreact = bngain * (hpreact - bnmean_running) / bnstd_running + bnbias\n",
    "    h = torch.tanh(hpreact)\n",
    "    logits = h @ W2 + b2\n",
    "    loss = F.cross_entropy(logits, y)\n",
    "    print(split, loss.item())\n",
    "\n",
    "split_loss('train')\n",
    "split_loss('eval')"
   ]
  },
  {
   "cell_type": "code",
   "execution_count": 59,
   "id": "9004cb2b-7f03-4208-8a21-aa5bd3c82265",
   "metadata": {},
   "outputs": [
    {
     "name": "stdout",
     "output_type": "stream",
     "text": [
      "japhthq.\n",
      "fricqhpzrssaphulfrujphryth.\n",
      "qilyzanthswne.\n",
      "xthanfahzten.\n",
      "buc.\n",
      "dudmskhuncette.\n",
      "frwdn.\n",
      "jonnzhaqlopgegfkton.\n",
      "jovallyx.\n",
      "zaddy.\n",
      "plrshvfrixcadrivzrykx.\n",
      "guhtdbeastabeulliztravoxdvnalthravordwan.\n",
      "fowgltyququtomcwesl.\n",
      "xfigzaqwexlaqwhiltij.\n",
      "rigweplynn.\n",
      "thwstgeufraxtobenkynghtrtuw.\n",
      "frwix.\n",
      "thoskaqibdh.\n",
      "qyaqlovellexinndmazzinlgctredgagruxrsxellx.\n",
      "murwaszoghlanxxxxpapthlixtorfendrexjonkcluwadgn.\n"
     ]
    }
   ],
   "source": [
    "# sample from the model\n",
    "\n",
    "g = torch.Generator().manual_seed(125)\n",
    "\n",
    "for _ in range(20):\n",
    "\n",
    "    out = []\n",
    "    context = [0] * block_size\n",
    "\n",
    "    while True:\n",
    "        #forward pass the nn\n",
    "        emb = C[torch.tensor([context])]\n",
    "        h = torch.tanh(emb.view(1, -1) @ W1 + b1)\n",
    "        logits = h @ W2 + b2\n",
    "        probs = F.softmax(logits, dim=1)\n",
    "\n",
    "        # sample from the distribution\n",
    "        ix = torch.multinomial(probs, num_samples=1, generator=g).item()\n",
    "\n",
    "        # shift the context window and track samples\n",
    "        context = context[1:] + [ix]\n",
    "        out.append(ix)\n",
    "\n",
    "        # is we sample the special token '.', then break the loop\n",
    "        if ix==0:\n",
    "            break\n",
    "\n",
    "    print(''.join(itos[i] for i in out))  "
   ]
  },
  {
   "cell_type": "markdown",
   "id": "2bb1b548-d741-42c0-a861-9408b639e710",
   "metadata": {},
   "source": [
    "# Do everything again. In PyTorch\n",
    "\n",
    "$$\n",
    "\\frac{x_i - \\mu_{\\beta}}{\\sqrt{\\sigma_{\\beta}^2} + \\epsilon\n",
    "$$"
   ]
  },
  {
   "cell_type": "code",
   "execution_count": 10,
   "id": "a78fda32-e109-476e-9e15-3cdb25401475",
   "metadata": {},
   "outputs": [
    {
     "ename": "SyntaxError",
     "evalue": "incomplete input (1037026654.py, line 2)",
     "output_type": "error",
     "traceback": [
      "\u001b[0;36m  Cell \u001b[0;32mIn[10], line 2\u001b[0;36m\u001b[0m\n\u001b[0;31m    def __init__(self, fan_in, fan_out, bias=True):\u001b[0m\n\u001b[0m                                                   ^\u001b[0m\n\u001b[0;31mSyntaxError\u001b[0m\u001b[0;31m:\u001b[0m incomplete input\n"
     ]
    }
   ],
   "source": [
    "class Linear:\n",
    "    def __init__(self, fan_in, fan_out, bias=True):\n",
    "        self.weight = torch.randn((fan_in, fan_out), generator=g ) / fan_in**0.5\n",
    "        self.bias = torch.zeros(fan_out) if bias else None\n",
    "\n",
    "    def __call__(self, x):\n",
    "        self.out = x @ self.weight\n",
    "        if self.bias is not None:\n",
    "            self.out += self.bias\n",
    "        return self.out\n",
    "\n",
    "    def parameters(self):\n",
    "        return [self.weight] + ([] if self.bias is not None else [self.bias])\n",
    "\n",
    "class BatchNorm1d:\n",
    "    def __init__(self, dim, eps=1e-5, momentum=0.1):\n",
    "        self.eps = eps\n",
    "        self.momentum = momentum\n",
    "        self.training=True\n",
    "\n",
    "        # params trained with backprop\n",
    "        self.gamma = torch.ones(dim)\n",
    "        self.beta = torch.zeros(dim)\n",
    "\n",
    "        self.running_mean = torch.zeros(dim)\n",
    "        self.running_var = torch.ones(dim)\n",
    "\n",
    "    def __call__(self, x):\n",
    "        # calculate the forward pass\n",
    "        if self.training:\n",
    "            xmean = x.mean(0, keepdim=True)\n",
    "            xvar = x.var(0, keepdim=True, unbiased=True)\n",
    "        else:\n",
    "            xmean = self.running_mean\n",
    "            xvar = self.running_var\n",
    "        xhat = (x - xmean) / torch.sqrt(xvar + self.eps) # (1)\n",
    "        "
   ]
  },
  {
   "cell_type": "code",
   "execution_count": null,
   "id": "408d1eab-0fa6-4e94-8f7c-3b4f944da5c5",
   "metadata": {},
   "outputs": [],
   "source": []
  }
 ],
 "metadata": {
  "kernelspec": {
   "display_name": "Python 3 (ipykernel)",
   "language": "python",
   "name": "python3"
  },
  "language_info": {
   "codemirror_mode": {
    "name": "ipython",
    "version": 3
   },
   "file_extension": ".py",
   "mimetype": "text/x-python",
   "name": "python",
   "nbconvert_exporter": "python",
   "pygments_lexer": "ipython3",
   "version": "3.12.9"
  }
 },
 "nbformat": 4,
 "nbformat_minor": 5
}
